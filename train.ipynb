{
 "cells": [
  {
   "cell_type": "code",
   "execution_count": null,
   "metadata": {},
   "outputs": [],
   "source": [
    "from dataclasses import dataclass\n",
    "\n",
    "@dataclass\n",
    "class DiffusionConfig:\n",
    "    batch_size: int = 32\n",
    "    num_epochs: int = 100\n",
    "    save_image_epochs: int = 1\n",
    "    save_model_epochs: int = 1\n",
    "    learning_rate: float = 5e-5\n",
    "    num_warmup_steps: int = 400\n",
    "    push_to_hub: bool = False\n",
    "    output_dir: str = \"output/\"\n",
    "    num_train_timesteps: int = 1000\n",
    "\n",
    "config = DiffusionConfig()"
   ]
  },
  {
   "cell_type": "code",
   "execution_count": null,
   "metadata": {},
   "outputs": [],
   "source": [
    "import torch_geometric\n",
    "from torch_geometric.data import DataLoader\n",
    "\n",
    "data = torch_geometric.datasets.QM9(root=\"./data/\")\n",
    "loader = DataLoader(data, follow_batch=[\"\"], batch_size=config.batch_size, shuffle=True)"
   ]
  },
  {
   "cell_type": "code",
   "execution_count": null,
   "metadata": {},
   "outputs": [],
   "source": [
    "from model.diffusionstep import DiffusionStep\n",
    "\n",
    "diffstep = DiffusionStep(33, 256, n_heads=4, num_layers=6)\n",
    "f\"num parameters: {sum(p.numel() for p in diffstep.parameters()):_}\""
   ]
  },
  {
   "cell_type": "code",
   "execution_count": null,
   "metadata": {},
   "outputs": [],
   "source": [
    "%load_ext tensorboard\n",
    "%tensorboard --logdir ./output/logs/"
   ]
  },
  {
   "cell_type": "code",
   "execution_count": null,
   "metadata": {},
   "outputs": [],
   "source": [
    "import torch\n",
    "from diffusers.optimization import get_cosine_schedule_with_warmup\n",
    "from diffusers import DDPMScheduler\n",
    "\n",
    "noise_scheduler = DDPMScheduler(num_train_timesteps=config.num_train_timesteps)\n",
    "\n",
    "optimizer = torch.optim.AdamW(diffstep.parameters(), lr=config.learning_rate, weight_decay=0.01)\n",
    "\n",
    "lr_scheduler = get_cosine_schedule_with_warmup(\n",
    "  optimizer=optimizer,\n",
    "  num_warmup_steps=config.num_warmup_steps,\n",
    "  num_training_steps=(len(loader) * config.num_epochs),\n",
    ")"
   ]
  },
  {
   "cell_type": "code",
   "execution_count": null,
   "metadata": {},
   "outputs": [],
   "source": [
    "from model.train import train_diffusion\n",
    "\n",
    "train_diffusion(diffstep, config, loader, noise_scheduler=noise_scheduler, optimizer=optimizer, lr_scheduler=lr_scheduler)"
   ]
  },
  {
   "cell_type": "code",
   "execution_count": null,
   "metadata": {},
   "outputs": [],
   "source": [
    "from matplotlib import pyplot as plt\n",
    "from IPython.display import clear_output\n",
    "from tqdm import tqdm\n",
    "from model.utils import kabsch_torch_batched\n",
    "\n",
    "loader1 = DataLoader(data, follow_batch=[\"\"], batch_size=1, shuffle=True)\n",
    "\n",
    "def evaluate(model, batch, device, num_inference_steps=500, ):\n",
    "  print(config.num_train_timesteps)\n",
    "  noise_scheduler = DDPMScheduler(num_train_timesteps=config.num_train_timesteps)\n",
    "  progress_bar = tqdm(total=num_inference_steps)\n",
    "  image = torch.randn((1, 33)).expand(batch.pos.shape[0], -1)\n",
    "\n",
    "  image = image.to(device)\n",
    "\n",
    "  # set step values\n",
    "\n",
    "  print(noise_scheduler)\n",
    "  noise_scheduler.set_timesteps(num_inference_steps)\n",
    "\n",
    "\n",
    "  for t in noise_scheduler.timesteps[:-1]:\n",
    "    # 1. predict noise model_output\n",
    "    timestep = torch.tensor([t], dtype=torch.long, device=device)\n",
    "    timestep = timestep.expand(image.shape[0])\n",
    "\n",
    "    model_output = model(image, batch.z.to(device), batch.edge_index.to(device), gnn_time_step=1, diffusion_time=timestep)\n",
    "\n",
    "    # 2. predict previous mean of image x_t-1 and add variance depending on eta\n",
    "    # eta corresponds to η in paper and should be between [0, 1]\n",
    "    # do x_t -> x_t-1\n",
    "    image = noise_scheduler.step(model_output, t, image).prev_sample\n",
    "\n",
    "    ones = torch.ones(image.shape[0], 1).to(image.device)\n",
    "\n",
    "    R, t = kabsch_torch_batched(image[None, :, :3], batch.pos[None, :, :3].cuda())\n",
    "    warped = image[:, :3] - image[:, :3].mean(dim=0, keepdims=True)\n",
    "    warped = warped[:, :3] @ R.squeeze().T\n",
    "\n",
    "    c = batch.pos - batch.pos.mean(dim=0, keepdims=True)\n",
    "\n",
    "    plt.scatter(*(warped).T.detach().cpu().numpy())\n",
    "    plt.scatter(*c.T)\n",
    "\n",
    "    clear_output(wait=True)\n",
    "    plt.show()\n",
    "\n",
    "  return image, batch.edge_index, batch.pos\n",
    "\n",
    "im = evaluate(diffstep, next(iter(loader1)), \"cuda\")\n",
    "\n"
   ]
  }
 ],
 "metadata": {
  "kernelspec": {
   "display_name": "ml",
   "language": "python",
   "name": "python3"
  },
  "language_info": {
   "codemirror_mode": {
    "name": "ipython",
    "version": 3
   },
   "file_extension": ".py",
   "mimetype": "text/x-python",
   "name": "python",
   "nbconvert_exporter": "python",
   "pygments_lexer": "ipython3",
   "version": "3.8.13"
  }
 },
 "nbformat": 4,
 "nbformat_minor": 2
}
