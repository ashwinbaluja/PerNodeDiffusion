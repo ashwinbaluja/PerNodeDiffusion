{
 "cells": [
  {
   "cell_type": "code",
   "execution_count": null,
   "metadata": {},
   "outputs": [],
   "source": [
    "import networkx as nx\n",
    "\n",
    "G = nx.Graph()\n",
    "G.add_edge(1, 2)\n",
    "G.add_edge(1, 3)\n",
    "G.add_edge(1, 5)\n",
    "G.add_edge(2, 3)\n",
    "G.add_edge(3, 4)\n",
    "G.add_edge(4, 5)\n",
    "\n",
    "nx.draw(G)"
   ]
  },
  {
   "cell_type": "code",
   "execution_count": null,
   "metadata": {},
   "outputs": [],
   "source": [
    "from torch_geometric.utils.convert import from_networkx\n",
    "import torch\n",
    "\n",
    "data = from_networkx(G)\n",
    "data.y = torch.randn(5, 5)\n",
    "data.x = torch.randn(5, 5)"
   ]
  },
  {
   "cell_type": "code",
   "execution_count": 2,
   "metadata": {},
   "outputs": [
    {
     "ename": "ImportError",
     "evalue": "cannot import name 'e3GATAttend' from 'model' (/Users/azb/Documents/code/PerNodeDiffusion/model/__init__.py)",
     "output_type": "error",
     "traceback": [
      "\u001b[0;31m---------------------------------------------------------------------------\u001b[0m",
      "\u001b[0;31mImportError\u001b[0m                               Traceback (most recent call last)",
      "Cell \u001b[0;32mIn[2], line 1\u001b[0m\n\u001b[0;32m----> 1\u001b[0m \u001b[38;5;28;01mfrom\u001b[39;00m \u001b[38;5;21;01mmodel\u001b[39;00m \u001b[38;5;28;01mimport\u001b[39;00m e3GATAttend\n\u001b[1;32m      3\u001b[0m model \u001b[38;5;241m=\u001b[39m e3GATAttend(in_channels\u001b[38;5;241m=\u001b[39m\u001b[38;5;241m5\u001b[39m, hidden_channels\u001b[38;5;241m=\u001b[39m\u001b[38;5;241m5\u001b[39m, heads\u001b[38;5;241m=\u001b[39m\u001b[38;5;241m1\u001b[39m, num_layers\u001b[38;5;241m=\u001b[39m\u001b[38;5;241m1\u001b[39m)\n\u001b[1;32m      4\u001b[0m model(data\u001b[38;5;241m.\u001b[39mx, data\u001b[38;5;241m.\u001b[39medge_index)\n",
      "\u001b[0;31mImportError\u001b[0m: cannot import name 'e3GATAttend' from 'model' (/Users/azb/Documents/code/PerNodeDiffusion/model/__init__.py)"
     ]
    }
   ],
   "source": [
    "from model import e3GATAttend\n",
    "\n",
    "model = e3GATAttend(in_channels=5, hidden_channels=5, heads=1, num_layers=1)\n",
    "model(data.x, data.edge_index)"
   ]
  }
 ],
 "metadata": {
  "kernelspec": {
   "display_name": "ml",
   "language": "python",
   "name": "python3"
  },
  "language_info": {
   "codemirror_mode": {
    "name": "ipython",
    "version": 3
   },
   "file_extension": ".py",
   "mimetype": "text/x-python",
   "name": "python",
   "nbconvert_exporter": "python",
   "pygments_lexer": "ipython3",
   "version": "3.8.13"
  }
 },
 "nbformat": 4,
 "nbformat_minor": 2
}
